{
 "cells": [
  {
   "cell_type": "code",
   "execution_count": 1,
   "metadata": {},
   "outputs": [],
   "source": [
    "import pandas as pd\n",
    "import numpy as np"
   ]
  },
  {
   "cell_type": "code",
   "execution_count": 2,
   "metadata": {},
   "outputs": [
    {
     "data": {
      "text/html": [
       "<div>\n",
       "<style scoped>\n",
       "    .dataframe tbody tr th:only-of-type {\n",
       "        vertical-align: middle;\n",
       "    }\n",
       "\n",
       "    .dataframe tbody tr th {\n",
       "        vertical-align: top;\n",
       "    }\n",
       "\n",
       "    .dataframe thead th {\n",
       "        text-align: right;\n",
       "    }\n",
       "</style>\n",
       "<table border=\"1\" class=\"dataframe\">\n",
       "  <thead>\n",
       "    <tr style=\"text-align: right;\">\n",
       "      <th></th>\n",
       "      <th>x1</th>\n",
       "      <th>x2</th>\n",
       "      <th>x3</th>\n",
       "      <th>x4</th>\n",
       "      <th>x5</th>\n",
       "      <th>x6</th>\n",
       "      <th>x7</th>\n",
       "      <th>x8</th>\n",
       "      <th>y</th>\n",
       "    </tr>\n",
       "  </thead>\n",
       "  <tbody>\n",
       "    <tr>\n",
       "      <th>0</th>\n",
       "      <td>58.76</td>\n",
       "      <td>123.79</td>\n",
       "      <td>-3.12</td>\n",
       "      <td>-13.11</td>\n",
       "      <td>4.03</td>\n",
       "      <td>224.40</td>\n",
       "      <td>-248.42</td>\n",
       "      <td>7.18</td>\n",
       "      <td>6.73</td>\n",
       "    </tr>\n",
       "    <tr>\n",
       "      <th>1</th>\n",
       "      <td>120.85</td>\n",
       "      <td>163.83</td>\n",
       "      <td>14.75</td>\n",
       "      <td>-2.12</td>\n",
       "      <td>8.61</td>\n",
       "      <td>28.05</td>\n",
       "      <td>-73.58</td>\n",
       "      <td>670.29</td>\n",
       "      <td>7.28</td>\n",
       "    </tr>\n",
       "    <tr>\n",
       "      <th>2</th>\n",
       "      <td>-19.30</td>\n",
       "      <td>39.05</td>\n",
       "      <td>0.55</td>\n",
       "      <td>1.34</td>\n",
       "      <td>-1.70</td>\n",
       "      <td>-2.19</td>\n",
       "      <td>308.07</td>\n",
       "      <td>3567.67</td>\n",
       "      <td>5.22</td>\n",
       "    </tr>\n",
       "    <tr>\n",
       "      <th>3</th>\n",
       "      <td>-65.72</td>\n",
       "      <td>-36.37</td>\n",
       "      <td>10.76</td>\n",
       "      <td>-8.88</td>\n",
       "      <td>15.04</td>\n",
       "      <td>-5.70</td>\n",
       "      <td>14.60</td>\n",
       "      <td>1054.30</td>\n",
       "      <td>6.66</td>\n",
       "    </tr>\n",
       "    <tr>\n",
       "      <th>4</th>\n",
       "      <td>11.00</td>\n",
       "      <td>-64.78</td>\n",
       "      <td>-3.23</td>\n",
       "      <td>7.37</td>\n",
       "      <td>25.74</td>\n",
       "      <td>20.48</td>\n",
       "      <td>91.13</td>\n",
       "      <td>102.21</td>\n",
       "      <td>-0.25</td>\n",
       "    </tr>\n",
       "    <tr>\n",
       "      <th>...</th>\n",
       "      <td>...</td>\n",
       "      <td>...</td>\n",
       "      <td>...</td>\n",
       "      <td>...</td>\n",
       "      <td>...</td>\n",
       "      <td>...</td>\n",
       "      <td>...</td>\n",
       "      <td>...</td>\n",
       "      <td>...</td>\n",
       "    </tr>\n",
       "    <tr>\n",
       "      <th>185</th>\n",
       "      <td>NaN</td>\n",
       "      <td>8.79</td>\n",
       "      <td>-10.48</td>\n",
       "      <td>NaN</td>\n",
       "      <td>12.52</td>\n",
       "      <td>-10.13</td>\n",
       "      <td>NaN</td>\n",
       "      <td>1174.43</td>\n",
       "      <td>3.69</td>\n",
       "    </tr>\n",
       "    <tr>\n",
       "      <th>186</th>\n",
       "      <td>-30.81</td>\n",
       "      <td>48.65</td>\n",
       "      <td>NaN</td>\n",
       "      <td>2.58</td>\n",
       "      <td>8.72</td>\n",
       "      <td>6.97</td>\n",
       "      <td>-69.11</td>\n",
       "      <td>1583.24</td>\n",
       "      <td>5.99</td>\n",
       "    </tr>\n",
       "    <tr>\n",
       "      <th>187</th>\n",
       "      <td>NaN</td>\n",
       "      <td>50.33</td>\n",
       "      <td>3.13</td>\n",
       "      <td>13.03</td>\n",
       "      <td>NaN</td>\n",
       "      <td>4.53</td>\n",
       "      <td>-173.70</td>\n",
       "      <td>254.72</td>\n",
       "      <td>-6.73</td>\n",
       "    </tr>\n",
       "    <tr>\n",
       "      <th>188</th>\n",
       "      <td>101.46</td>\n",
       "      <td>-67.42</td>\n",
       "      <td>0.44</td>\n",
       "      <td>-3.74</td>\n",
       "      <td>8.93</td>\n",
       "      <td>-4.29</td>\n",
       "      <td>21.79</td>\n",
       "      <td>40925.29</td>\n",
       "      <td>-13.39</td>\n",
       "    </tr>\n",
       "    <tr>\n",
       "      <th>189</th>\n",
       "      <td>-87.33</td>\n",
       "      <td>-16.89</td>\n",
       "      <td>7.39</td>\n",
       "      <td>21.44</td>\n",
       "      <td>9.44</td>\n",
       "      <td>18.92</td>\n",
       "      <td>NaN</td>\n",
       "      <td>3730.77</td>\n",
       "      <td>4.40</td>\n",
       "    </tr>\n",
       "  </tbody>\n",
       "</table>\n",
       "<p>190 rows × 9 columns</p>\n",
       "</div>"
      ],
      "text/plain": [
       "         x1      x2     x3     x4     x5      x6      x7        x8      y\n",
       "0     58.76  123.79  -3.12 -13.11   4.03  224.40 -248.42      7.18   6.73\n",
       "1    120.85  163.83  14.75  -2.12   8.61   28.05  -73.58    670.29   7.28\n",
       "2    -19.30   39.05   0.55   1.34  -1.70   -2.19  308.07   3567.67   5.22\n",
       "3    -65.72  -36.37  10.76  -8.88  15.04   -5.70   14.60   1054.30   6.66\n",
       "4     11.00  -64.78  -3.23   7.37  25.74   20.48   91.13    102.21  -0.25\n",
       "..      ...     ...    ...    ...    ...     ...     ...       ...    ...\n",
       "185     NaN    8.79 -10.48    NaN  12.52  -10.13     NaN   1174.43   3.69\n",
       "186  -30.81   48.65    NaN   2.58   8.72    6.97  -69.11   1583.24   5.99\n",
       "187     NaN   50.33   3.13  13.03    NaN    4.53 -173.70    254.72  -6.73\n",
       "188  101.46  -67.42   0.44  -3.74   8.93   -4.29   21.79  40925.29 -13.39\n",
       "189  -87.33  -16.89   7.39  21.44   9.44   18.92     NaN   3730.77   4.40\n",
       "\n",
       "[190 rows x 9 columns]"
      ]
     },
     "execution_count": 2,
     "metadata": {},
     "output_type": "execute_result"
    }
   ],
   "source": [
    "data = pd.read_csv('B-train.csv')\n",
    "data"
   ]
  },
  {
   "cell_type": "code",
   "execution_count": 3,
   "metadata": {},
   "outputs": [
    {
     "name": "stdout",
     "output_type": "stream",
     "text": [
      "<class 'pandas.core.frame.DataFrame'>\n",
      "RangeIndex: 190 entries, 0 to 189\n",
      "Data columns (total 9 columns):\n",
      " #   Column  Non-Null Count  Dtype  \n",
      "---  ------  --------------  -----  \n",
      " 0   x1      180 non-null    float64\n",
      " 1   x2      180 non-null    float64\n",
      " 2   x3      181 non-null    float64\n",
      " 3   x4      180 non-null    float64\n",
      " 4   x5      181 non-null    float64\n",
      " 5   x6      180 non-null    float64\n",
      " 6   x7      180 non-null    float64\n",
      " 7   x8      180 non-null    float64\n",
      " 8   y       188 non-null    float64\n",
      "dtypes: float64(9)\n",
      "memory usage: 13.5 KB\n"
     ]
    }
   ],
   "source": [
    "data.info()"
   ]
  },
  {
   "cell_type": "code",
   "execution_count": 4,
   "metadata": {},
   "outputs": [],
   "source": [
    "column = ['x1','x2','x3','x4','x5','x6','x7','x8','y']\n",
    "for i in column:\n",
    "    data[i].fillna(data[i].mean(),inplace=True)"
   ]
  },
  {
   "cell_type": "code",
   "execution_count": 5,
   "metadata": {},
   "outputs": [
    {
     "name": "stdout",
     "output_type": "stream",
     "text": [
      "<class 'pandas.core.frame.DataFrame'>\n",
      "RangeIndex: 190 entries, 0 to 189\n",
      "Data columns (total 9 columns):\n",
      " #   Column  Non-Null Count  Dtype  \n",
      "---  ------  --------------  -----  \n",
      " 0   x1      190 non-null    float64\n",
      " 1   x2      190 non-null    float64\n",
      " 2   x3      190 non-null    float64\n",
      " 3   x4      190 non-null    float64\n",
      " 4   x5      190 non-null    float64\n",
      " 5   x6      190 non-null    float64\n",
      " 6   x7      190 non-null    float64\n",
      " 7   x8      190 non-null    float64\n",
      " 8   y       190 non-null    float64\n",
      "dtypes: float64(9)\n",
      "memory usage: 13.5 KB\n"
     ]
    }
   ],
   "source": [
    "data.info()"
   ]
  },
  {
   "cell_type": "code",
   "execution_count": 6,
   "metadata": {},
   "outputs": [],
   "source": [
    "column = ['x1','x2','x3','x4','x5','x6','x7','x8']\n",
    "for i in column:\n",
    "    q1 = data[i].quantile(0.25)\n",
    "    q3 = data[i].quantile(0.75)\n",
    "    iqr = q3 - q1\n",
    "    lower_bound = q1 -(1.5 * iqr) \n",
    "    upper_bound = q3 +(1.5 * iqr) \n",
    "    for j in range(len(data)):\n",
    "        if(data[i][j] < lower_bound ):\n",
    "            data[i][j] = lower_bound\n",
    "        elif(data[i][j] > upper_bound ):\n",
    "            data[i][j] = upper_bound\n",
    "        inplace=True"
   ]
  },
  {
   "cell_type": "code",
   "execution_count": 7,
   "metadata": {},
   "outputs": [],
   "source": [
    "X = data[[\"x1\",\"x2\",\"x3\",\"x4\",\"x5\",\"x6\",\"x7\",\"x8\"]]\n",
    "Y = data[[\"y\"]]"
   ]
  },
  {
   "cell_type": "code",
   "execution_count": 8,
   "metadata": {},
   "outputs": [
    {
     "data": {
      "text/plain": [
       "<AxesSubplot:>"
      ]
     },
     "execution_count": 8,
     "metadata": {},
     "output_type": "execute_result"
    },
    {
     "data": {
      "image/png": "[encoded data removed]",
      "text/plain": [
       "<Figure size 432x288 with 1 Axes>"
      ]
     },
     "metadata": {
      "needs_background": "light"
     },
     "output_type": "display_data"
    }
   ],
   "source": [
    "X.boxplot()"
   ]
  },
  {
   "cell_type": "code",
   "execution_count": 9,
   "metadata": {},
   "outputs": [],
   "source": [
    "data.to_csv(\"Best-B-train.csv\")"
   ]
  }
 ],
 "metadata": {
  "kernelspec": {
   "display_name": "Python 3.9.6 64-bit",
   "language": "python",
   "name": "python3"
  },
  "language_info": {
   "codemirror_mode": {
    "name": "ipython",
    "version": 3
   },
   "file_extension": ".py",
   "mimetype": "text/x-python",
   "name": "python",
   "nbconvert_exporter": "python",
   "pygments_lexer": "ipython3",
   "version": "3.9.6"
  },
  "orig_nbformat": 4,
  "vscode": {
   "interpreter": {
    "hash": "5da211566187181ba594136c7b9a72391342c5ece9146ba4e0faa8745aa2a67c"
   }
  }
 },
 "nbformat": 4,
 "nbformat_minor": 2
}
