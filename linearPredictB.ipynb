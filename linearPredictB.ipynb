{
 "cells": [
  {
   "cell_type": "code",
   "execution_count": 174,
   "metadata": {},
   "outputs": [],
   "source": [
    "import pandas as pd\n",
    "import numpy as np\n",
    "import seaborn as sns\n",
    "import matplotlib.pyplot as plt\n",
    "%matplotlib inline\n",
    "\n",
    "from sklearn.model_selection import train_test_split\n",
    "from sklearn.linear_model import LinearRegression\n",
    "from sklearn import preprocessing\n",
    "from sklearn.metrics import r2_score"
   ]
  },
  {
   "cell_type": "code",
   "execution_count": 175,
   "metadata": {},
   "outputs": [],
   "source": [
    "data = pd.read_csv('B-train.csv')\n",
    "dataTest = pd.read_csv('B-test.csv')\n"
   ]
  },
  {
   "cell_type": "code",
   "execution_count": 176,
   "metadata": {},
   "outputs": [
    {
     "data": {
      "text/html": [
       "<div>\n",
       "<style scoped>\n",
       "    .dataframe tbody tr th:only-of-type {\n",
       "        vertical-align: middle;\n",
       "    }\n",
       "\n",
       "    .dataframe tbody tr th {\n",
       "        vertical-align: top;\n",
       "    }\n",
       "\n",
       "    .dataframe thead th {\n",
       "        text-align: right;\n",
       "    }\n",
       "</style>\n",
       "<table border=\"1\" class=\"dataframe\">\n",
       "  <thead>\n",
       "    <tr style=\"text-align: right;\">\n",
       "      <th></th>\n",
       "      <th>x1</th>\n",
       "      <th>x2</th>\n",
       "      <th>x3</th>\n",
       "      <th>x4</th>\n",
       "      <th>x5</th>\n",
       "      <th>x6</th>\n",
       "      <th>x7</th>\n",
       "      <th>x8</th>\n",
       "      <th>y</th>\n",
       "    </tr>\n",
       "  </thead>\n",
       "  <tbody>\n",
       "    <tr>\n",
       "      <th>0</th>\n",
       "      <td>58.76</td>\n",
       "      <td>123.79</td>\n",
       "      <td>-3.12</td>\n",
       "      <td>-13.11</td>\n",
       "      <td>4.03</td>\n",
       "      <td>224.40</td>\n",
       "      <td>-248.42</td>\n",
       "      <td>7.18</td>\n",
       "      <td>6.73</td>\n",
       "    </tr>\n",
       "    <tr>\n",
       "      <th>1</th>\n",
       "      <td>120.85</td>\n",
       "      <td>163.83</td>\n",
       "      <td>14.75</td>\n",
       "      <td>-2.12</td>\n",
       "      <td>8.61</td>\n",
       "      <td>28.05</td>\n",
       "      <td>-73.58</td>\n",
       "      <td>670.29</td>\n",
       "      <td>7.28</td>\n",
       "    </tr>\n",
       "    <tr>\n",
       "      <th>2</th>\n",
       "      <td>-19.30</td>\n",
       "      <td>39.05</td>\n",
       "      <td>0.55</td>\n",
       "      <td>1.34</td>\n",
       "      <td>-1.70</td>\n",
       "      <td>-2.19</td>\n",
       "      <td>308.07</td>\n",
       "      <td>3567.67</td>\n",
       "      <td>5.22</td>\n",
       "    </tr>\n",
       "    <tr>\n",
       "      <th>3</th>\n",
       "      <td>-65.72</td>\n",
       "      <td>-36.37</td>\n",
       "      <td>10.76</td>\n",
       "      <td>-8.88</td>\n",
       "      <td>15.04</td>\n",
       "      <td>-5.70</td>\n",
       "      <td>14.60</td>\n",
       "      <td>1054.30</td>\n",
       "      <td>6.66</td>\n",
       "    </tr>\n",
       "    <tr>\n",
       "      <th>4</th>\n",
       "      <td>11.00</td>\n",
       "      <td>-64.78</td>\n",
       "      <td>-3.23</td>\n",
       "      <td>7.37</td>\n",
       "      <td>25.74</td>\n",
       "      <td>20.48</td>\n",
       "      <td>91.13</td>\n",
       "      <td>102.21</td>\n",
       "      <td>-0.25</td>\n",
       "    </tr>\n",
       "    <tr>\n",
       "      <th>...</th>\n",
       "      <td>...</td>\n",
       "      <td>...</td>\n",
       "      <td>...</td>\n",
       "      <td>...</td>\n",
       "      <td>...</td>\n",
       "      <td>...</td>\n",
       "      <td>...</td>\n",
       "      <td>...</td>\n",
       "      <td>...</td>\n",
       "    </tr>\n",
       "    <tr>\n",
       "      <th>185</th>\n",
       "      <td>NaN</td>\n",
       "      <td>8.79</td>\n",
       "      <td>-10.48</td>\n",
       "      <td>NaN</td>\n",
       "      <td>12.52</td>\n",
       "      <td>-10.13</td>\n",
       "      <td>NaN</td>\n",
       "      <td>1174.43</td>\n",
       "      <td>3.69</td>\n",
       "    </tr>\n",
       "    <tr>\n",
       "      <th>186</th>\n",
       "      <td>-30.81</td>\n",
       "      <td>48.65</td>\n",
       "      <td>NaN</td>\n",
       "      <td>2.58</td>\n",
       "      <td>8.72</td>\n",
       "      <td>6.97</td>\n",
       "      <td>-69.11</td>\n",
       "      <td>1583.24</td>\n",
       "      <td>5.99</td>\n",
       "    </tr>\n",
       "    <tr>\n",
       "      <th>187</th>\n",
       "      <td>NaN</td>\n",
       "      <td>50.33</td>\n",
       "      <td>3.13</td>\n",
       "      <td>13.03</td>\n",
       "      <td>NaN</td>\n",
       "      <td>4.53</td>\n",
       "      <td>-173.70</td>\n",
       "      <td>254.72</td>\n",
       "      <td>-6.73</td>\n",
       "    </tr>\n",
       "    <tr>\n",
       "      <th>188</th>\n",
       "      <td>101.46</td>\n",
       "      <td>-67.42</td>\n",
       "      <td>0.44</td>\n",
       "      <td>-3.74</td>\n",
       "      <td>8.93</td>\n",
       "      <td>-4.29</td>\n",
       "      <td>21.79</td>\n",
       "      <td>40925.29</td>\n",
       "      <td>-13.39</td>\n",
       "    </tr>\n",
       "    <tr>\n",
       "      <th>189</th>\n",
       "      <td>-87.33</td>\n",
       "      <td>-16.89</td>\n",
       "      <td>7.39</td>\n",
       "      <td>21.44</td>\n",
       "      <td>9.44</td>\n",
       "      <td>18.92</td>\n",
       "      <td>NaN</td>\n",
       "      <td>3730.77</td>\n",
       "      <td>4.40</td>\n",
       "    </tr>\n",
       "  </tbody>\n",
       "</table>\n",
       "<p>190 rows × 9 columns</p>\n",
       "</div>"
      ],
      "text/plain": [
       "         x1      x2     x3     x4     x5      x6      x7        x8      y\n",
       "0     58.76  123.79  -3.12 -13.11   4.03  224.40 -248.42      7.18   6.73\n",
       "1    120.85  163.83  14.75  -2.12   8.61   28.05  -73.58    670.29   7.28\n",
       "2    -19.30   39.05   0.55   1.34  -1.70   -2.19  308.07   3567.67   5.22\n",
       "3    -65.72  -36.37  10.76  -8.88  15.04   -5.70   14.60   1054.30   6.66\n",
       "4     11.00  -64.78  -3.23   7.37  25.74   20.48   91.13    102.21  -0.25\n",
       "..      ...     ...    ...    ...    ...     ...     ...       ...    ...\n",
       "185     NaN    8.79 -10.48    NaN  12.52  -10.13     NaN   1174.43   3.69\n",
       "186  -30.81   48.65    NaN   2.58   8.72    6.97  -69.11   1583.24   5.99\n",
       "187     NaN   50.33   3.13  13.03    NaN    4.53 -173.70    254.72  -6.73\n",
       "188  101.46  -67.42   0.44  -3.74   8.93   -4.29   21.79  40925.29 -13.39\n",
       "189  -87.33  -16.89   7.39  21.44   9.44   18.92     NaN   3730.77   4.40\n",
       "\n",
       "[190 rows x 9 columns]"
      ]
     },
     "execution_count": 176,
     "metadata": {},
     "output_type": "execute_result"
    }
   ],
   "source": [
    "data"
   ]
  },
  {
   "cell_type": "code",
   "execution_count": 177,
   "metadata": {},
   "outputs": [
    {
     "name": "stdout",
     "output_type": "stream",
     "text": [
      "<class 'pandas.core.frame.DataFrame'>\n",
      "RangeIndex: 190 entries, 0 to 189\n",
      "Data columns (total 9 columns):\n",
      " #   Column  Non-Null Count  Dtype  \n",
      "---  ------  --------------  -----  \n",
      " 0   x1      180 non-null    float64\n",
      " 1   x2      180 non-null    float64\n",
      " 2   x3      181 non-null    float64\n",
      " 3   x4      180 non-null    float64\n",
      " 4   x5      181 non-null    float64\n",
      " 5   x6      180 non-null    float64\n",
      " 6   x7      180 non-null    float64\n",
      " 7   x8      180 non-null    float64\n",
      " 8   y       188 non-null    float64\n",
      "dtypes: float64(9)\n",
      "memory usage: 13.5 KB\n"
     ]
    }
   ],
   "source": [
    "data.info()"
   ]
  },
  {
   "cell_type": "code",
   "execution_count": 178,
   "metadata": {},
   "outputs": [
    {
     "data": {
      "text/html": [
       "<div>\n",
       "<style scoped>\n",
       "    .dataframe tbody tr th:only-of-type {\n",
       "        vertical-align: middle;\n",
       "    }\n",
       "\n",
       "    .dataframe tbody tr th {\n",
       "        vertical-align: top;\n",
       "    }\n",
       "\n",
       "    .dataframe thead th {\n",
       "        text-align: right;\n",
       "    }\n",
       "</style>\n",
       "<table border=\"1\" class=\"dataframe\">\n",
       "  <thead>\n",
       "    <tr style=\"text-align: right;\">\n",
       "      <th></th>\n",
       "      <th>x1</th>\n",
       "      <th>x2</th>\n",
       "      <th>x3</th>\n",
       "      <th>x4</th>\n",
       "      <th>x5</th>\n",
       "      <th>x6</th>\n",
       "      <th>x7</th>\n",
       "      <th>x8</th>\n",
       "      <th>y</th>\n",
       "    </tr>\n",
       "  </thead>\n",
       "  <tbody>\n",
       "    <tr>\n",
       "      <th>0</th>\n",
       "      <td>50.69</td>\n",
       "      <td>-120.50</td>\n",
       "      <td>-5.93</td>\n",
       "      <td>7.43</td>\n",
       "      <td>-16.28</td>\n",
       "      <td>-9.26</td>\n",
       "      <td>96.68</td>\n",
       "      <td>10510.35</td>\n",
       "      <td>B_01</td>\n",
       "    </tr>\n",
       "    <tr>\n",
       "      <th>1</th>\n",
       "      <td>102.08</td>\n",
       "      <td>74.69</td>\n",
       "      <td>-4.95</td>\n",
       "      <td>-2.20</td>\n",
       "      <td>-4.95</td>\n",
       "      <td>NaN</td>\n",
       "      <td>27.30</td>\n",
       "      <td>36952.37</td>\n",
       "      <td>B_02</td>\n",
       "    </tr>\n",
       "    <tr>\n",
       "      <th>2</th>\n",
       "      <td>NaN</td>\n",
       "      <td>49.86</td>\n",
       "      <td>1.00</td>\n",
       "      <td>-5.35</td>\n",
       "      <td>0.72</td>\n",
       "      <td>-9.81</td>\n",
       "      <td>NaN</td>\n",
       "      <td>24768.46</td>\n",
       "      <td>B_03</td>\n",
       "    </tr>\n",
       "    <tr>\n",
       "      <th>3</th>\n",
       "      <td>49.39</td>\n",
       "      <td>-101.88</td>\n",
       "      <td>8.69</td>\n",
       "      <td>-7.54</td>\n",
       "      <td>-11.28</td>\n",
       "      <td>4.61</td>\n",
       "      <td>-15.11</td>\n",
       "      <td>NaN</td>\n",
       "      <td>B_04</td>\n",
       "    </tr>\n",
       "    <tr>\n",
       "      <th>4</th>\n",
       "      <td>140.49</td>\n",
       "      <td>59.99</td>\n",
       "      <td>0.05</td>\n",
       "      <td>6.55</td>\n",
       "      <td>NaN</td>\n",
       "      <td>-0.42</td>\n",
       "      <td>109.93</td>\n",
       "      <td>2603.04</td>\n",
       "      <td>B_05</td>\n",
       "    </tr>\n",
       "    <tr>\n",
       "      <th>5</th>\n",
       "      <td>54.08</td>\n",
       "      <td>NaN</td>\n",
       "      <td>11.00</td>\n",
       "      <td>-16.44</td>\n",
       "      <td>5.31</td>\n",
       "      <td>17.83</td>\n",
       "      <td>-90.67</td>\n",
       "      <td>5.20</td>\n",
       "      <td>B_06</td>\n",
       "    </tr>\n",
       "    <tr>\n",
       "      <th>6</th>\n",
       "      <td>106.48</td>\n",
       "      <td>-50.55</td>\n",
       "      <td>16.47</td>\n",
       "      <td>NaN</td>\n",
       "      <td>1.34</td>\n",
       "      <td>-11.53</td>\n",
       "      <td>138.03</td>\n",
       "      <td>1753.93</td>\n",
       "      <td>B_07</td>\n",
       "    </tr>\n",
       "    <tr>\n",
       "      <th>7</th>\n",
       "      <td>-83.82</td>\n",
       "      <td>-104.84</td>\n",
       "      <td>NaN</td>\n",
       "      <td>-13.70</td>\n",
       "      <td>10.19</td>\n",
       "      <td>-2.51</td>\n",
       "      <td>-34.02</td>\n",
       "      <td>7494.36</td>\n",
       "      <td>B_08</td>\n",
       "    </tr>\n",
       "    <tr>\n",
       "      <th>8</th>\n",
       "      <td>147.15</td>\n",
       "      <td>9.14</td>\n",
       "      <td>-3.06</td>\n",
       "      <td>1.97</td>\n",
       "      <td>8.14</td>\n",
       "      <td>26.99</td>\n",
       "      <td>37.34</td>\n",
       "      <td>249.96</td>\n",
       "      <td>B_09</td>\n",
       "    </tr>\n",
       "    <tr>\n",
       "      <th>9</th>\n",
       "      <td>8.68</td>\n",
       "      <td>-207.09</td>\n",
       "      <td>-4.37</td>\n",
       "      <td>-10.22</td>\n",
       "      <td>-5.01</td>\n",
       "      <td>10.57</td>\n",
       "      <td>-24.65</td>\n",
       "      <td>20.43</td>\n",
       "      <td>B_10</td>\n",
       "    </tr>\n",
       "  </tbody>\n",
       "</table>\n",
       "</div>"
      ],
      "text/plain": [
       "       x1      x2     x3     x4     x5     x6      x7        x8     y\n",
       "0   50.69 -120.50  -5.93   7.43 -16.28  -9.26   96.68  10510.35  B_01\n",
       "1  102.08   74.69  -4.95  -2.20  -4.95    NaN   27.30  36952.37  B_02\n",
       "2     NaN   49.86   1.00  -5.35   0.72  -9.81     NaN  24768.46  B_03\n",
       "3   49.39 -101.88   8.69  -7.54 -11.28   4.61  -15.11       NaN  B_04\n",
       "4  140.49   59.99   0.05   6.55    NaN  -0.42  109.93   2603.04  B_05\n",
       "5   54.08     NaN  11.00 -16.44   5.31  17.83  -90.67      5.20  B_06\n",
       "6  106.48  -50.55  16.47    NaN   1.34 -11.53  138.03   1753.93  B_07\n",
       "7  -83.82 -104.84    NaN -13.70  10.19  -2.51  -34.02   7494.36  B_08\n",
       "8  147.15    9.14  -3.06   1.97   8.14  26.99   37.34    249.96  B_09\n",
       "9    8.68 -207.09  -4.37 -10.22  -5.01  10.57  -24.65     20.43  B_10"
      ]
     },
     "execution_count": 178,
     "metadata": {},
     "output_type": "execute_result"
    }
   ],
   "source": [
    "dataTest"
   ]
  },
  {
   "cell_type": "code",
   "execution_count": 179,
   "metadata": {},
   "outputs": [
    {
     "name": "stdout",
     "output_type": "stream",
     "text": [
      "<class 'pandas.core.frame.DataFrame'>\n",
      "RangeIndex: 10 entries, 0 to 9\n",
      "Data columns (total 9 columns):\n",
      " #   Column  Non-Null Count  Dtype  \n",
      "---  ------  --------------  -----  \n",
      " 0   x1      9 non-null      float64\n",
      " 1   x2      9 non-null      float64\n",
      " 2   x3      9 non-null      float64\n",
      " 3   x4      9 non-null      float64\n",
      " 4   x5      9 non-null      float64\n",
      " 5   x6      9 non-null      float64\n",
      " 6   x7      9 non-null      float64\n",
      " 7   x8      9 non-null      float64\n",
      " 8   y       10 non-null     object \n",
      "dtypes: float64(8), object(1)\n",
      "memory usage: 848.0+ bytes\n"
     ]
    }
   ],
   "source": [
    "dataTest.info()"
   ]
  },
  {
   "cell_type": "code",
   "execution_count": 180,
   "metadata": {},
   "outputs": [],
   "source": [
    "column = ['x1','x2','x3','x4','x5','x6','x7','x8','y']\n",
    "for i in column:\n",
    "    data[i].fillna(data[i].mean(),inplace=True)\n"
   ]
  },
  {
   "cell_type": "code",
   "execution_count": 181,
   "metadata": {},
   "outputs": [
    {
     "name": "stdout",
     "output_type": "stream",
     "text": [
      "<class 'pandas.core.frame.DataFrame'>\n",
      "RangeIndex: 190 entries, 0 to 189\n",
      "Data columns (total 9 columns):\n",
      " #   Column  Non-Null Count  Dtype  \n",
      "---  ------  --------------  -----  \n",
      " 0   x1      190 non-null    float64\n",
      " 1   x2      190 non-null    float64\n",
      " 2   x3      190 non-null    float64\n",
      " 3   x4      190 non-null    float64\n",
      " 4   x5      190 non-null    float64\n",
      " 5   x6      190 non-null    float64\n",
      " 6   x7      190 non-null    float64\n",
      " 7   x8      190 non-null    float64\n",
      " 8   y       190 non-null    float64\n",
      "dtypes: float64(9)\n",
      "memory usage: 13.5 KB\n"
     ]
    }
   ],
   "source": [
    "data.info()"
   ]
  },
  {
   "cell_type": "code",
   "execution_count": 182,
   "metadata": {},
   "outputs": [],
   "source": [
    "columnT = ['x1','x2','x3','x4','x5','x6','x7','x8']\n",
    "for k in columnT:\n",
    "    dataTest[k].fillna(dataTest[k].mean(),inplace=True)"
   ]
  },
  {
   "cell_type": "code",
   "execution_count": 183,
   "metadata": {},
   "outputs": [
    {
     "name": "stdout",
     "output_type": "stream",
     "text": [
      "<class 'pandas.core.frame.DataFrame'>\n",
      "RangeIndex: 10 entries, 0 to 9\n",
      "Data columns (total 9 columns):\n",
      " #   Column  Non-Null Count  Dtype  \n",
      "---  ------  --------------  -----  \n",
      " 0   x1      10 non-null     float64\n",
      " 1   x2      10 non-null     float64\n",
      " 2   x3      10 non-null     float64\n",
      " 3   x4      10 non-null     float64\n",
      " 4   x5      10 non-null     float64\n",
      " 5   x6      10 non-null     float64\n",
      " 6   x7      10 non-null     float64\n",
      " 7   x8      10 non-null     float64\n",
      " 8   y       10 non-null     object \n",
      "dtypes: float64(8), object(1)\n",
      "memory usage: 848.0+ bytes\n"
     ]
    }
   ],
   "source": [
    "dataTest.info()"
   ]
  },
  {
   "cell_type": "code",
   "execution_count": 184,
   "metadata": {},
   "outputs": [
    {
     "data": {
      "text/plain": [
       "<AxesSubplot:>"
      ]
     },
     "execution_count": 184,
     "metadata": {},
     "output_type": "execute_result"
    },
    {
     "data": {
      "image/png": "[encoded data removed]",
      "text/plain": [
       "<Figure size 432x288 with 1 Axes>"
      ]
     },
     "metadata": {
      "needs_background": "light"
     },
     "output_type": "display_data"
    }
   ],
   "source": [
    "X = data[[\"x1\",\"x2\",\"x3\",\"x4\",\"x5\",\"x6\",\"x7\",\"x8\"]]\n",
    "Y = data[[\"y\"]]\n",
    "X.boxplot()"
   ]
  },
  {
   "cell_type": "code",
   "execution_count": 185,
   "metadata": {},
   "outputs": [],
   "source": [
    "column = ['x1','x2','x3','x4','x5','x6','x7','x8']\n",
    "for i in column:\n",
    "    q1 = data[i].quantile(0.25)\n",
    "    q3 = data[i].quantile(0.75)\n",
    "    iqr = q3 - q1\n",
    "    lower_bound = q1 -(1.5 * iqr) \n",
    "    upper_bound = q3 +(1.5 * iqr) \n",
    "    for j in range(len(data)):\n",
    "        if(data[i][j] < lower_bound ):\n",
    "            data[i][j] = lower_bound\n",
    "        elif(data[i][j] > upper_bound ):\n",
    "            data[i][j] = upper_bound\n",
    "        inplace=True\n"
   ]
  },
  {
   "cell_type": "code",
   "execution_count": 186,
   "metadata": {},
   "outputs": [
    {
     "data": {
      "text/plain": [
       "<AxesSubplot:>"
      ]
     },
     "execution_count": 186,
     "metadata": {},
     "output_type": "execute_result"
    },
    {
     "data": {
      "image/png": "[encoded data removed]",
      "text/plain": [
       "<Figure size 432x288 with 1 Axes>"
      ]
     },
     "metadata": {
      "needs_background": "light"
     },
     "output_type": "display_data"
    }
   ],
   "source": [
    "X = data[[\"x1\",\"x2\",\"x3\",\"x4\",\"x5\",\"x6\",\"x7\",\"x8\"]]\n",
    "Y = data[[\"y\"]]\n",
    "X.boxplot()"
   ]
  },
  {
   "cell_type": "code",
   "execution_count": 187,
   "metadata": {},
   "outputs": [],
   "source": [
    "# X_train, X_test, y_train, y_test = train_test_split(X, Y, test_size=0.1, random_state=101)"
   ]
  },
  {
   "cell_type": "code",
   "execution_count": 188,
   "metadata": {},
   "outputs": [],
   "source": [
    "Xt = dataTest[[\"x1\",\"x2\",\"x3\",\"x4\",\"x5\",\"x6\",\"x7\",\"x8\"]]"
   ]
  },
  {
   "cell_type": "code",
   "execution_count": 189,
   "metadata": {},
   "outputs": [],
   "source": [
    "X_train = X\n",
    "X_test = Xt\n",
    "y_train = Y"
   ]
  },
  {
   "cell_type": "code",
   "execution_count": 190,
   "metadata": {},
   "outputs": [
    {
     "name": "stdout",
     "output_type": "stream",
     "text": [
      "len(X_train) :  190\n",
      "len(X_test) :  10\n",
      "len(y_train) :  190\n"
     ]
    }
   ],
   "source": [
    "print(\"len(X_train) : \", len(X_train))\n",
    "print(\"len(X_test) : \", len(X_test))\n",
    "print(\"len(y_train) : \", len(y_train))\n",
    "# print(\"len(y_test) : \", len(y_test))"
   ]
  },
  {
   "cell_type": "code",
   "execution_count": 191,
   "metadata": {},
   "outputs": [
    {
     "data": {
      "text/plain": [
       "LinearRegression()"
      ]
     },
     "execution_count": 191,
     "metadata": {},
     "output_type": "execute_result"
    }
   ],
   "source": [
    "lm = LinearRegression()\n",
    "lm.fit(X_train,y_train)\n"
   ]
  },
  {
   "cell_type": "code",
   "execution_count": 192,
   "metadata": {},
   "outputs": [
    {
     "data": {
      "text/plain": [
       "array([[-5.07994226],\n",
       "       [ 2.18364442],\n",
       "       [ 2.6681655 ],\n",
       "       [-3.78509073],\n",
       "       [ 0.50717571],\n",
       "       [-0.06485587],\n",
       "       [-3.61722149],\n",
       "       [ 2.80820158],\n",
       "       [-0.99859284],\n",
       "       [-6.16274431]])"
      ]
     },
     "execution_count": 192,
     "metadata": {},
     "output_type": "execute_result"
    }
   ],
   "source": [
    "y_pred = lm.predict(X_test)\n",
    "y_pred"
   ]
  },
  {
   "cell_type": "code",
   "execution_count": 193,
   "metadata": {},
   "outputs": [],
   "source": [
    "# y_test - y_pred"
   ]
  },
  {
   "cell_type": "code",
   "execution_count": 194,
   "metadata": {},
   "outputs": [],
   "source": [
    "# m = lm.coef_\n",
    "# c = lm.intercept_\n",
    "# print('m = ',m)\n",
    "# print('c = ',c)\n",
    "# print('r^2 = ',r2_score(y_test, y_pred))"
   ]
  }
 ],
 "metadata": {
  "kernelspec": {
   "display_name": "Python 3.9.6 64-bit",
   "language": "python",
   "name": "python3"
  },
  "language_info": {
   "codemirror_mode": {
    "name": "ipython",
    "version": 3
   },
   "file_extension": ".py",
   "mimetype": "text/x-python",
   "name": "python",
   "nbconvert_exporter": "python",
   "pygments_lexer": "ipython3",
   "version": "3.9.6"
  },
  "orig_nbformat": 4,
  "vscode": {
   "interpreter": {
    "hash": "5da211566187181ba594136c7b9a72391342c5ece9146ba4e0faa8745aa2a67c"
   }
  }
 },
 "nbformat": 4,
 "nbformat_minor": 2
}
