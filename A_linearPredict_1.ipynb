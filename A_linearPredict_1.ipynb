{
 "cells": [
  {
   "cell_type": "code",
   "execution_count": 12,
   "metadata": {},
   "outputs": [],
   "source": [
    "import pandas as pd\n",
    "import numpy as np\n",
    "import seaborn as sns\n",
    "import matplotlib.pyplot as plt\n",
    "%matplotlib inline\n",
    "\n",
    "from sklearn.model_selection import train_test_split\n",
    "from sklearn.linear_model import LinearRegression\n",
    "from sklearn import preprocessing\n",
    "from sklearn.metrics import r2_score\n",
    "import math"
   ]
  },
  {
   "cell_type": "code",
   "execution_count": 13,
   "metadata": {},
   "outputs": [
    {
     "data": {
      "text/html": [
       "<div>\n",
       "<style scoped>\n",
       "    .dataframe tbody tr th:only-of-type {\n",
       "        vertical-align: middle;\n",
       "    }\n",
       "\n",
       "    .dataframe tbody tr th {\n",
       "        vertical-align: top;\n",
       "    }\n",
       "\n",
       "    .dataframe thead th {\n",
       "        text-align: right;\n",
       "    }\n",
       "</style>\n",
       "<table border=\"1\" class=\"dataframe\">\n",
       "  <thead>\n",
       "    <tr style=\"text-align: right;\">\n",
       "      <th></th>\n",
       "      <th>x1</th>\n",
       "      <th>x2</th>\n",
       "      <th>x3</th>\n",
       "      <th>x4</th>\n",
       "      <th>x5</th>\n",
       "      <th>x6</th>\n",
       "      <th>x7</th>\n",
       "      <th>x8</th>\n",
       "      <th>y</th>\n",
       "    </tr>\n",
       "  </thead>\n",
       "  <tbody>\n",
       "    <tr>\n",
       "      <th>0</th>\n",
       "      <td>26.52</td>\n",
       "      <td>89.93</td>\n",
       "      <td>-60.46</td>\n",
       "      <td>1137.04</td>\n",
       "      <td>-3.49</td>\n",
       "      <td>NaN</td>\n",
       "      <td>-5.88</td>\n",
       "      <td>-17.13</td>\n",
       "      <td>7.44</td>\n",
       "    </tr>\n",
       "    <tr>\n",
       "      <th>1</th>\n",
       "      <td>-68.18</td>\n",
       "      <td>-127.21</td>\n",
       "      <td>23.30</td>\n",
       "      <td>1471.49</td>\n",
       "      <td>16.95</td>\n",
       "      <td>2.30</td>\n",
       "      <td>-11.51</td>\n",
       "      <td>-7.70</td>\n",
       "      <td>7.31</td>\n",
       "    </tr>\n",
       "    <tr>\n",
       "      <th>2</th>\n",
       "      <td>-95.05</td>\n",
       "      <td>36.10</td>\n",
       "      <td>-75.27</td>\n",
       "      <td>1158.04</td>\n",
       "      <td>6.97</td>\n",
       "      <td>3.21</td>\n",
       "      <td>-5.86</td>\n",
       "      <td>8.65</td>\n",
       "      <td>-5.77</td>\n",
       "    </tr>\n",
       "    <tr>\n",
       "      <th>3</th>\n",
       "      <td>124.40</td>\n",
       "      <td>-8.19</td>\n",
       "      <td>NaN</td>\n",
       "      <td>5527.92</td>\n",
       "      <td>7.36</td>\n",
       "      <td>7.23</td>\n",
       "      <td>10.77</td>\n",
       "      <td>1.92</td>\n",
       "      <td>-0.42</td>\n",
       "    </tr>\n",
       "    <tr>\n",
       "      <th>4</th>\n",
       "      <td>-103.25</td>\n",
       "      <td>NaN</td>\n",
       "      <td>-2.89</td>\n",
       "      <td>4865.06</td>\n",
       "      <td>-5.21</td>\n",
       "      <td>-1.54</td>\n",
       "      <td>NaN</td>\n",
       "      <td>4.69</td>\n",
       "      <td>4.31</td>\n",
       "    </tr>\n",
       "    <tr>\n",
       "      <th>...</th>\n",
       "      <td>...</td>\n",
       "      <td>...</td>\n",
       "      <td>...</td>\n",
       "      <td>...</td>\n",
       "      <td>...</td>\n",
       "      <td>...</td>\n",
       "      <td>...</td>\n",
       "      <td>...</td>\n",
       "      <td>...</td>\n",
       "    </tr>\n",
       "    <tr>\n",
       "      <th>185</th>\n",
       "      <td>34.29</td>\n",
       "      <td>-38.65</td>\n",
       "      <td>-44.41</td>\n",
       "      <td>9775.28</td>\n",
       "      <td>-3.43</td>\n",
       "      <td>4.95</td>\n",
       "      <td>4.60</td>\n",
       "      <td>-11.73</td>\n",
       "      <td>11.78</td>\n",
       "    </tr>\n",
       "    <tr>\n",
       "      <th>186</th>\n",
       "      <td>1.62</td>\n",
       "      <td>145.02</td>\n",
       "      <td>53.26</td>\n",
       "      <td>4546.80</td>\n",
       "      <td>11.81</td>\n",
       "      <td>-4.31</td>\n",
       "      <td>4.86</td>\n",
       "      <td>-0.42</td>\n",
       "      <td>3.79</td>\n",
       "    </tr>\n",
       "    <tr>\n",
       "      <th>187</th>\n",
       "      <td>29.46</td>\n",
       "      <td>33.91</td>\n",
       "      <td>-20.96</td>\n",
       "      <td>6083819.57</td>\n",
       "      <td>5.10</td>\n",
       "      <td>2.93</td>\n",
       "      <td>1.23</td>\n",
       "      <td>3.23</td>\n",
       "      <td>-3.17</td>\n",
       "    </tr>\n",
       "    <tr>\n",
       "      <th>188</th>\n",
       "      <td>-64.93</td>\n",
       "      <td>25.39</td>\n",
       "      <td>-118.74</td>\n",
       "      <td>1746.40</td>\n",
       "      <td>226.26</td>\n",
       "      <td>-1.91</td>\n",
       "      <td>-16.11</td>\n",
       "      <td>-10.44</td>\n",
       "      <td>0.97</td>\n",
       "    </tr>\n",
       "    <tr>\n",
       "      <th>189</th>\n",
       "      <td>-101.85</td>\n",
       "      <td>NaN</td>\n",
       "      <td>-9.53</td>\n",
       "      <td>3523.61</td>\n",
       "      <td>14.56</td>\n",
       "      <td>0.04</td>\n",
       "      <td>-20.61</td>\n",
       "      <td>-1.31</td>\n",
       "      <td>1.44</td>\n",
       "    </tr>\n",
       "  </tbody>\n",
       "</table>\n",
       "<p>190 rows × 9 columns</p>\n",
       "</div>"
      ],
      "text/plain": [
       "         x1      x2      x3          x4      x5    x6     x7     x8      y\n",
       "0     26.52   89.93  -60.46     1137.04   -3.49   NaN  -5.88 -17.13   7.44\n",
       "1    -68.18 -127.21   23.30     1471.49   16.95  2.30 -11.51  -7.70   7.31\n",
       "2    -95.05   36.10  -75.27     1158.04    6.97  3.21  -5.86   8.65  -5.77\n",
       "3    124.40   -8.19     NaN     5527.92    7.36  7.23  10.77   1.92  -0.42\n",
       "4   -103.25     NaN   -2.89     4865.06   -5.21 -1.54    NaN   4.69   4.31\n",
       "..      ...     ...     ...         ...     ...   ...    ...    ...    ...\n",
       "185   34.29  -38.65  -44.41     9775.28   -3.43  4.95   4.60 -11.73  11.78\n",
       "186    1.62  145.02   53.26     4546.80   11.81 -4.31   4.86  -0.42   3.79\n",
       "187   29.46   33.91  -20.96  6083819.57    5.10  2.93   1.23   3.23  -3.17\n",
       "188  -64.93   25.39 -118.74     1746.40  226.26 -1.91 -16.11 -10.44   0.97\n",
       "189 -101.85     NaN   -9.53     3523.61   14.56  0.04 -20.61  -1.31   1.44\n",
       "\n",
       "[190 rows x 9 columns]"
      ]
     },
     "execution_count": 13,
     "metadata": {},
     "output_type": "execute_result"
    }
   ],
   "source": [
    "data = pd.read_csv('A-train.csv')\n",
    "data"
   ]
  },
  {
   "cell_type": "code",
   "execution_count": 14,
   "metadata": {},
   "outputs": [
    {
     "name": "stdout",
     "output_type": "stream",
     "text": [
      "<class 'pandas.core.frame.DataFrame'>\n",
      "RangeIndex: 190 entries, 0 to 189\n",
      "Data columns (total 9 columns):\n",
      " #   Column  Non-Null Count  Dtype  \n",
      "---  ------  --------------  -----  \n",
      " 0   x1      181 non-null    float64\n",
      " 1   x2      180 non-null    float64\n",
      " 2   x3      180 non-null    float64\n",
      " 3   x4      181 non-null    float64\n",
      " 4   x5      180 non-null    float64\n",
      " 5   x6      180 non-null    float64\n",
      " 6   x7      180 non-null    float64\n",
      " 7   x8      181 non-null    float64\n",
      " 8   y       188 non-null    float64\n",
      "dtypes: float64(9)\n",
      "memory usage: 13.5 KB\n"
     ]
    }
   ],
   "source": [
    "data.info()"
   ]
  },
  {
   "cell_type": "code",
   "execution_count": 15,
   "metadata": {},
   "outputs": [],
   "source": [
    "column = ['x1','x2','x3','x4','x5','x6','x7','x8','y']\n",
    "for i in column:\n",
    "    data[i].fillna(data[i].mean(),inplace=True)\n"
   ]
  },
  {
   "cell_type": "code",
   "execution_count": 16,
   "metadata": {},
   "outputs": [
    {
     "name": "stdout",
     "output_type": "stream",
     "text": [
      "<class 'pandas.core.frame.DataFrame'>\n",
      "RangeIndex: 190 entries, 0 to 189\n",
      "Data columns (total 9 columns):\n",
      " #   Column  Non-Null Count  Dtype  \n",
      "---  ------  --------------  -----  \n",
      " 0   x1      190 non-null    float64\n",
      " 1   x2      190 non-null    float64\n",
      " 2   x3      190 non-null    float64\n",
      " 3   x4      190 non-null    float64\n",
      " 4   x5      190 non-null    float64\n",
      " 5   x6      190 non-null    float64\n",
      " 6   x7      190 non-null    float64\n",
      " 7   x8      190 non-null    float64\n",
      " 8   y       190 non-null    float64\n",
      "dtypes: float64(9)\n",
      "memory usage: 13.5 KB\n"
     ]
    }
   ],
   "source": [
    "data.info()"
   ]
  },
  {
   "cell_type": "code",
   "execution_count": 17,
   "metadata": {},
   "outputs": [],
   "source": [
    "column = ['x1','x2','x3','x4','x5','x6','x7','x8']\n",
    "for i in column:\n",
    "    q1 = data[i].quantile(0.25)\n",
    "    q3 = data[i].quantile(0.75)\n",
    "    iqr = q3 - q1\n",
    "    lower_bound = q1 -(1.5 * iqr) \n",
    "    upper_bound = q3 +(1.5 * iqr) \n",
    "    for j in range(len(data)):\n",
    "        if(data[i][j] < lower_bound ):\n",
    "            data[i][j] = lower_bound\n",
    "        elif(data[i][j] > upper_bound ):\n",
    "            data[i][j] = upper_bound\n",
    "        inplace=True\n"
   ]
  },
  {
   "cell_type": "code",
   "execution_count": 18,
   "metadata": {},
   "outputs": [],
   "source": [
    "X = data[[\"x1\",\"x2\",\"x3\",\"x4\",\"x5\",\"x6\",\"x7\",\"x8\"]]\n",
    "Y = data[[\"y\"]]"
   ]
  },
  {
   "cell_type": "code",
   "execution_count": 19,
   "metadata": {},
   "outputs": [
    {
     "data": {
      "text/plain": [
       "<AxesSubplot:>"
      ]
     },
     "execution_count": 19,
     "metadata": {},
     "output_type": "execute_result"
    },
    {
     "data": {
      "image/png": "[encoded data removed]",
      "text/plain": [
       "<Figure size 432x288 with 1 Axes>"
      ]
     },
     "metadata": {
      "needs_background": "light"
     },
     "output_type": "display_data"
    }
   ],
   "source": [
    "X.boxplot()"
   ]
  },
  {
   "cell_type": "code",
   "execution_count": 20,
   "metadata": {},
   "outputs": [
    {
     "name": "stdout",
     "output_type": "stream",
     "text": [
      "len(X_train) :  152\n",
      "len(X_test) :  38\n",
      "len(y_train) :  152\n",
      "len(y_test) :  38\n"
     ]
    }
   ],
   "source": [
    "X_train, X_test, y_train, y_test = train_test_split(X, Y, test_size=0.2, random_state=101)\n",
    "print(\"len(X_train) : \", len(X_train))\n",
    "print(\"len(X_test) : \", len(X_test))\n",
    "print(\"len(y_train) : \", len(y_train))\n",
    "print(\"len(y_test) : \", len(y_test))"
   ]
  },
  {
   "cell_type": "code",
   "execution_count": 21,
   "metadata": {},
   "outputs": [],
   "source": [
    "lm = LinearRegression()\n",
    "lm.fit(X_train,y_train)\n",
    "y_pred = lm.predict(X_test)"
   ]
  },
  {
   "cell_type": "code",
   "execution_count": 22,
   "metadata": {},
   "outputs": [
    {
     "name": "stdout",
     "output_type": "stream",
     "text": [
      "RMSE = 5.958659097465829\n",
      "r^2 =  0.6127671680158517\n"
     ]
    }
   ],
   "source": [
    "m = lm.coef_\n",
    "c = lm.intercept_\n",
    "\n",
    "MSE = np.square(np.subtract(y_test,y_pred)).mean()\n",
    "RMSE = math.sqrt(MSE) \n",
    "print(\"RMSE =\" ,RMSE)\n",
    "print('r^2 = ',r2_score(y_test, y_pred))"
   ]
  }
 ],
 "metadata": {
  "kernelspec": {
   "display_name": "Python 3.9.6 64-bit",
   "language": "python",
   "name": "python3"
  },
  "language_info": {
   "codemirror_mode": {
    "name": "ipython",
    "version": 3
   },
   "file_extension": ".py",
   "mimetype": "text/x-python",
   "name": "python",
   "nbconvert_exporter": "python",
   "pygments_lexer": "ipython3",
   "version": "3.9.6"
  },
  "orig_nbformat": 4,
  "vscode": {
   "interpreter": {
    "hash": "5da211566187181ba594136c7b9a72391342c5ece9146ba4e0faa8745aa2a67c"
   }
  }
 },
 "nbformat": 4,
 "nbformat_minor": 2
}
