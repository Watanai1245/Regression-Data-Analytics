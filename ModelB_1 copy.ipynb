{
 "cells": [
  {
   "cell_type": "code",
   "execution_count": 13,
   "metadata": {},
   "outputs": [],
   "source": [
    "import pandas as pd\n",
    "import numpy as np\n",
    "import seaborn as sns\n",
    "import matplotlib.pyplot as plt\n",
    "%matplotlib inline\n",
    "\n",
    "from sklearn.model_selection import train_test_split\n",
    "from sklearn.linear_model import LinearRegression\n",
    "from sklearn import preprocessing\n",
    "from sklearn.metrics import r2_score\n",
    "import math"
   ]
  },
  {
   "cell_type": "code",
   "execution_count": 14,
   "metadata": {},
   "outputs": [
    {
     "data": {
      "text/html": [
       "<div>\n",
       "<style scoped>\n",
       "    .dataframe tbody tr th:only-of-type {\n",
       "        vertical-align: middle;\n",
       "    }\n",
       "\n",
       "    .dataframe tbody tr th {\n",
       "        vertical-align: top;\n",
       "    }\n",
       "\n",
       "    .dataframe thead th {\n",
       "        text-align: right;\n",
       "    }\n",
       "</style>\n",
       "<table border=\"1\" class=\"dataframe\">\n",
       "  <thead>\n",
       "    <tr style=\"text-align: right;\">\n",
       "      <th></th>\n",
       "      <th>x1</th>\n",
       "      <th>x2</th>\n",
       "      <th>x3</th>\n",
       "      <th>x4</th>\n",
       "      <th>x5</th>\n",
       "      <th>x6</th>\n",
       "      <th>x7</th>\n",
       "      <th>x8</th>\n",
       "      <th>y</th>\n",
       "    </tr>\n",
       "  </thead>\n",
       "  <tbody>\n",
       "    <tr>\n",
       "      <th>0</th>\n",
       "      <td>58.76</td>\n",
       "      <td>123.79</td>\n",
       "      <td>-3.12</td>\n",
       "      <td>-13.11</td>\n",
       "      <td>4.03</td>\n",
       "      <td>224.40</td>\n",
       "      <td>-248.42</td>\n",
       "      <td>7.18</td>\n",
       "      <td>6.73</td>\n",
       "    </tr>\n",
       "    <tr>\n",
       "      <th>1</th>\n",
       "      <td>120.85</td>\n",
       "      <td>163.83</td>\n",
       "      <td>14.75</td>\n",
       "      <td>-2.12</td>\n",
       "      <td>8.61</td>\n",
       "      <td>28.05</td>\n",
       "      <td>-73.58</td>\n",
       "      <td>670.29</td>\n",
       "      <td>7.28</td>\n",
       "    </tr>\n",
       "    <tr>\n",
       "      <th>2</th>\n",
       "      <td>-19.30</td>\n",
       "      <td>39.05</td>\n",
       "      <td>0.55</td>\n",
       "      <td>1.34</td>\n",
       "      <td>-1.70</td>\n",
       "      <td>-2.19</td>\n",
       "      <td>308.07</td>\n",
       "      <td>3567.67</td>\n",
       "      <td>5.22</td>\n",
       "    </tr>\n",
       "    <tr>\n",
       "      <th>3</th>\n",
       "      <td>-65.72</td>\n",
       "      <td>-36.37</td>\n",
       "      <td>10.76</td>\n",
       "      <td>-8.88</td>\n",
       "      <td>15.04</td>\n",
       "      <td>-5.70</td>\n",
       "      <td>14.60</td>\n",
       "      <td>1054.30</td>\n",
       "      <td>6.66</td>\n",
       "    </tr>\n",
       "    <tr>\n",
       "      <th>4</th>\n",
       "      <td>11.00</td>\n",
       "      <td>-64.78</td>\n",
       "      <td>-3.23</td>\n",
       "      <td>7.37</td>\n",
       "      <td>25.74</td>\n",
       "      <td>20.48</td>\n",
       "      <td>91.13</td>\n",
       "      <td>102.21</td>\n",
       "      <td>-0.25</td>\n",
       "    </tr>\n",
       "    <tr>\n",
       "      <th>...</th>\n",
       "      <td>...</td>\n",
       "      <td>...</td>\n",
       "      <td>...</td>\n",
       "      <td>...</td>\n",
       "      <td>...</td>\n",
       "      <td>...</td>\n",
       "      <td>...</td>\n",
       "      <td>...</td>\n",
       "      <td>...</td>\n",
       "    </tr>\n",
       "    <tr>\n",
       "      <th>185</th>\n",
       "      <td>NaN</td>\n",
       "      <td>8.79</td>\n",
       "      <td>-10.48</td>\n",
       "      <td>NaN</td>\n",
       "      <td>12.52</td>\n",
       "      <td>-10.13</td>\n",
       "      <td>NaN</td>\n",
       "      <td>1174.43</td>\n",
       "      <td>3.69</td>\n",
       "    </tr>\n",
       "    <tr>\n",
       "      <th>186</th>\n",
       "      <td>-30.81</td>\n",
       "      <td>48.65</td>\n",
       "      <td>NaN</td>\n",
       "      <td>2.58</td>\n",
       "      <td>8.72</td>\n",
       "      <td>6.97</td>\n",
       "      <td>-69.11</td>\n",
       "      <td>1583.24</td>\n",
       "      <td>5.99</td>\n",
       "    </tr>\n",
       "    <tr>\n",
       "      <th>187</th>\n",
       "      <td>NaN</td>\n",
       "      <td>50.33</td>\n",
       "      <td>3.13</td>\n",
       "      <td>13.03</td>\n",
       "      <td>NaN</td>\n",
       "      <td>4.53</td>\n",
       "      <td>-173.70</td>\n",
       "      <td>254.72</td>\n",
       "      <td>-6.73</td>\n",
       "    </tr>\n",
       "    <tr>\n",
       "      <th>188</th>\n",
       "      <td>101.46</td>\n",
       "      <td>-67.42</td>\n",
       "      <td>0.44</td>\n",
       "      <td>-3.74</td>\n",
       "      <td>8.93</td>\n",
       "      <td>-4.29</td>\n",
       "      <td>21.79</td>\n",
       "      <td>40925.29</td>\n",
       "      <td>-13.39</td>\n",
       "    </tr>\n",
       "    <tr>\n",
       "      <th>189</th>\n",
       "      <td>-87.33</td>\n",
       "      <td>-16.89</td>\n",
       "      <td>7.39</td>\n",
       "      <td>21.44</td>\n",
       "      <td>9.44</td>\n",
       "      <td>18.92</td>\n",
       "      <td>NaN</td>\n",
       "      <td>3730.77</td>\n",
       "      <td>4.40</td>\n",
       "    </tr>\n",
       "  </tbody>\n",
       "</table>\n",
       "<p>190 rows × 9 columns</p>\n",
       "</div>"
      ],
      "text/plain": [
       "         x1      x2     x3     x4     x5      x6      x7        x8      y\n",
       "0     58.76  123.79  -3.12 -13.11   4.03  224.40 -248.42      7.18   6.73\n",
       "1    120.85  163.83  14.75  -2.12   8.61   28.05  -73.58    670.29   7.28\n",
       "2    -19.30   39.05   0.55   1.34  -1.70   -2.19  308.07   3567.67   5.22\n",
       "3    -65.72  -36.37  10.76  -8.88  15.04   -5.70   14.60   1054.30   6.66\n",
       "4     11.00  -64.78  -3.23   7.37  25.74   20.48   91.13    102.21  -0.25\n",
       "..      ...     ...    ...    ...    ...     ...     ...       ...    ...\n",
       "185     NaN    8.79 -10.48    NaN  12.52  -10.13     NaN   1174.43   3.69\n",
       "186  -30.81   48.65    NaN   2.58   8.72    6.97  -69.11   1583.24   5.99\n",
       "187     NaN   50.33   3.13  13.03    NaN    4.53 -173.70    254.72  -6.73\n",
       "188  101.46  -67.42   0.44  -3.74   8.93   -4.29   21.79  40925.29 -13.39\n",
       "189  -87.33  -16.89   7.39  21.44   9.44   18.92     NaN   3730.77   4.40\n",
       "\n",
       "[190 rows x 9 columns]"
      ]
     },
     "execution_count": 14,
     "metadata": {},
     "output_type": "execute_result"
    }
   ],
   "source": [
    "data = pd.read_csv('DATA/B-train.csv')\n",
    "data"
   ]
  },
  {
   "cell_type": "code",
   "execution_count": 15,
   "metadata": {},
   "outputs": [],
   "source": [
    "column = ['x1','x2','x3','x4','x5','x6','x7','x8','y']\n",
    "for i in column:\n",
    "    data[i].fillna(data[i].mean(),inplace=True)"
   ]
  },
  {
   "cell_type": "code",
   "execution_count": 16,
   "metadata": {},
   "outputs": [],
   "source": [
    "column = ['x1','x2','x3','x4','x5','x6','x7','x8']\n",
    "for i in column:\n",
    "    q1 = data[i].quantile(0.25)\n",
    "    q3 = data[i].quantile(0.75)\n",
    "    iqr = q3 - q1\n",
    "    lower_bound = q1 -(1.5 * iqr) \n",
    "    upper_bound = q3 +(1.5 * iqr) \n",
    "    for j in range(len(data)):\n",
    "        if(data[i][j] < lower_bound ):\n",
    "            data[i][j] = np.nan\n",
    "        elif(data[i][j] > upper_bound ):\n",
    "            data[i][j] = np.nan\n",
    "        inplace=True"
   ]
  },
  {
   "cell_type": "code",
   "execution_count": 17,
   "metadata": {},
   "outputs": [],
   "source": [
    "column = ['x1','x2','x3','x4','x5','x6','x7','x8']\n",
    "for i in column:\n",
    "    data.dropna(subset=[i],inplace=True)"
   ]
  },
  {
   "cell_type": "code",
   "execution_count": 18,
   "metadata": {},
   "outputs": [
    {
     "data": {
      "text/html": [
       "<div>\n",
       "<style scoped>\n",
       "    .dataframe tbody tr th:only-of-type {\n",
       "        vertical-align: middle;\n",
       "    }\n",
       "\n",
       "    .dataframe tbody tr th {\n",
       "        vertical-align: top;\n",
       "    }\n",
       "\n",
       "    .dataframe thead th {\n",
       "        text-align: right;\n",
       "    }\n",
       "</style>\n",
       "<table border=\"1\" class=\"dataframe\">\n",
       "  <thead>\n",
       "    <tr style=\"text-align: right;\">\n",
       "      <th></th>\n",
       "      <th>x1</th>\n",
       "      <th>x2</th>\n",
       "      <th>x3</th>\n",
       "      <th>x4</th>\n",
       "      <th>x5</th>\n",
       "      <th>x6</th>\n",
       "      <th>x7</th>\n",
       "      <th>x8</th>\n",
       "      <th>y</th>\n",
       "    </tr>\n",
       "  </thead>\n",
       "  <tbody>\n",
       "    <tr>\n",
       "      <th>1</th>\n",
       "      <td>120.850000</td>\n",
       "      <td>163.830000</td>\n",
       "      <td>14.750000</td>\n",
       "      <td>-2.120000</td>\n",
       "      <td>8.610000</td>\n",
       "      <td>28.05</td>\n",
       "      <td>-73.580000</td>\n",
       "      <td>670.29</td>\n",
       "      <td>7.28</td>\n",
       "    </tr>\n",
       "    <tr>\n",
       "      <th>3</th>\n",
       "      <td>-65.720000</td>\n",
       "      <td>-36.370000</td>\n",
       "      <td>10.760000</td>\n",
       "      <td>-8.880000</td>\n",
       "      <td>15.040000</td>\n",
       "      <td>-5.70</td>\n",
       "      <td>14.600000</td>\n",
       "      <td>1054.30</td>\n",
       "      <td>6.66</td>\n",
       "    </tr>\n",
       "    <tr>\n",
       "      <th>4</th>\n",
       "      <td>11.000000</td>\n",
       "      <td>-64.780000</td>\n",
       "      <td>-3.230000</td>\n",
       "      <td>7.370000</td>\n",
       "      <td>25.740000</td>\n",
       "      <td>20.48</td>\n",
       "      <td>91.130000</td>\n",
       "      <td>102.21</td>\n",
       "      <td>-0.25</td>\n",
       "    </tr>\n",
       "    <tr>\n",
       "      <th>7</th>\n",
       "      <td>19.840000</td>\n",
       "      <td>-12.012278</td>\n",
       "      <td>15.040000</td>\n",
       "      <td>2.110000</td>\n",
       "      <td>-10.950000</td>\n",
       "      <td>-0.82</td>\n",
       "      <td>-11.300000</td>\n",
       "      <td>10.82</td>\n",
       "      <td>2.19</td>\n",
       "    </tr>\n",
       "    <tr>\n",
       "      <th>8</th>\n",
       "      <td>-21.320000</td>\n",
       "      <td>2.660000</td>\n",
       "      <td>4.680000</td>\n",
       "      <td>-5.560000</td>\n",
       "      <td>24.720000</td>\n",
       "      <td>4.04</td>\n",
       "      <td>9.960000</td>\n",
       "      <td>751.86</td>\n",
       "      <td>6.25</td>\n",
       "    </tr>\n",
       "    <tr>\n",
       "      <th>...</th>\n",
       "      <td>...</td>\n",
       "      <td>...</td>\n",
       "      <td>...</td>\n",
       "      <td>...</td>\n",
       "      <td>...</td>\n",
       "      <td>...</td>\n",
       "      <td>...</td>\n",
       "      <td>...</td>\n",
       "      <td>...</td>\n",
       "    </tr>\n",
       "    <tr>\n",
       "      <th>185</th>\n",
       "      <td>14.175056</td>\n",
       "      <td>8.790000</td>\n",
       "      <td>-10.480000</td>\n",
       "      <td>-0.299167</td>\n",
       "      <td>12.520000</td>\n",
       "      <td>-10.13</td>\n",
       "      <td>16.658889</td>\n",
       "      <td>1174.43</td>\n",
       "      <td>3.69</td>\n",
       "    </tr>\n",
       "    <tr>\n",
       "      <th>186</th>\n",
       "      <td>-30.810000</td>\n",
       "      <td>48.650000</td>\n",
       "      <td>-2.560663</td>\n",
       "      <td>2.580000</td>\n",
       "      <td>8.720000</td>\n",
       "      <td>6.97</td>\n",
       "      <td>-69.110000</td>\n",
       "      <td>1583.24</td>\n",
       "      <td>5.99</td>\n",
       "    </tr>\n",
       "    <tr>\n",
       "      <th>187</th>\n",
       "      <td>14.175056</td>\n",
       "      <td>50.330000</td>\n",
       "      <td>3.130000</td>\n",
       "      <td>13.030000</td>\n",
       "      <td>-0.412044</td>\n",
       "      <td>4.53</td>\n",
       "      <td>-173.700000</td>\n",
       "      <td>254.72</td>\n",
       "      <td>-6.73</td>\n",
       "    </tr>\n",
       "    <tr>\n",
       "      <th>188</th>\n",
       "      <td>101.460000</td>\n",
       "      <td>-67.420000</td>\n",
       "      <td>0.440000</td>\n",
       "      <td>-3.740000</td>\n",
       "      <td>8.930000</td>\n",
       "      <td>-4.29</td>\n",
       "      <td>21.790000</td>\n",
       "      <td>40925.29</td>\n",
       "      <td>-13.39</td>\n",
       "    </tr>\n",
       "    <tr>\n",
       "      <th>189</th>\n",
       "      <td>-87.330000</td>\n",
       "      <td>-16.890000</td>\n",
       "      <td>7.390000</td>\n",
       "      <td>21.440000</td>\n",
       "      <td>9.440000</td>\n",
       "      <td>18.92</td>\n",
       "      <td>16.658889</td>\n",
       "      <td>3730.77</td>\n",
       "      <td>4.40</td>\n",
       "    </tr>\n",
       "  </tbody>\n",
       "</table>\n",
       "<p>140 rows × 9 columns</p>\n",
       "</div>"
      ],
      "text/plain": [
       "             x1          x2         x3         x4         x5     x6  \\\n",
       "1    120.850000  163.830000  14.750000  -2.120000   8.610000  28.05   \n",
       "3    -65.720000  -36.370000  10.760000  -8.880000  15.040000  -5.70   \n",
       "4     11.000000  -64.780000  -3.230000   7.370000  25.740000  20.48   \n",
       "7     19.840000  -12.012278  15.040000   2.110000 -10.950000  -0.82   \n",
       "8    -21.320000    2.660000   4.680000  -5.560000  24.720000   4.04   \n",
       "..          ...         ...        ...        ...        ...    ...   \n",
       "185   14.175056    8.790000 -10.480000  -0.299167  12.520000 -10.13   \n",
       "186  -30.810000   48.650000  -2.560663   2.580000   8.720000   6.97   \n",
       "187   14.175056   50.330000   3.130000  13.030000  -0.412044   4.53   \n",
       "188  101.460000  -67.420000   0.440000  -3.740000   8.930000  -4.29   \n",
       "189  -87.330000  -16.890000   7.390000  21.440000   9.440000  18.92   \n",
       "\n",
       "             x7        x8      y  \n",
       "1    -73.580000    670.29   7.28  \n",
       "3     14.600000   1054.30   6.66  \n",
       "4     91.130000    102.21  -0.25  \n",
       "7    -11.300000     10.82   2.19  \n",
       "8      9.960000    751.86   6.25  \n",
       "..          ...       ...    ...  \n",
       "185   16.658889   1174.43   3.69  \n",
       "186  -69.110000   1583.24   5.99  \n",
       "187 -173.700000    254.72  -6.73  \n",
       "188   21.790000  40925.29 -13.39  \n",
       "189   16.658889   3730.77   4.40  \n",
       "\n",
       "[140 rows x 9 columns]"
      ]
     },
     "execution_count": 18,
     "metadata": {},
     "output_type": "execute_result"
    }
   ],
   "source": [
    "data"
   ]
  },
  {
   "cell_type": "code",
   "execution_count": 19,
   "metadata": {},
   "outputs": [],
   "source": [
    "X = data[[\"x1\",\"x2\",\"x3\",\"x4\",\"x5\",\"x6\",\"x7\",\"x8\"]]\n",
    "Y = data[[\"y\"]]"
   ]
  },
  {
   "cell_type": "code",
   "execution_count": 20,
   "metadata": {},
   "outputs": [
    {
     "data": {
      "text/plain": [
       "<AxesSubplot:>"
      ]
     },
     "execution_count": 20,
     "metadata": {},
     "output_type": "execute_result"
    },
    {
     "data": {
      "image/png": "[encoded data removed]",
      "text/plain": [
       "<Figure size 432x288 with 1 Axes>"
      ]
     },
     "metadata": {
      "needs_background": "light"
     },
     "output_type": "display_data"
    }
   ],
   "source": [
    "X.boxplot()"
   ]
  },
  {
   "cell_type": "code",
   "execution_count": 21,
   "metadata": {},
   "outputs": [
    {
     "data": {
      "text/plain": [
       "<seaborn.axisgrid.PairGrid at 0x1723d7cc850>"
      ]
     },
     "execution_count": 21,
     "metadata": {},
     "output_type": "execute_result"
    },
    {
     "data": {
      "image/png": "[encoded data removed]",
      "text/plain": [
       "<Figure size 1620x180 with 10 Axes>"
      ]
     },
     "metadata": {
      "needs_background": "light"
     },
     "output_type": "display_data"
    }
   ],
   "source": [
    "sns.pairplot(data, x_vars=data.columns, y_vars=[\"y\"])"
   ]
  },
  {
   "cell_type": "code",
   "execution_count": 22,
   "metadata": {},
   "outputs": [
    {
     "data": {
      "text/plain": [
       "<AxesSubplot:>"
      ]
     },
     "execution_count": 22,
     "metadata": {},
     "output_type": "execute_result"
    },
    {
     "data": {
      "image/png": "[encoded data removed]",
      "text/plain": [
       "<Figure size 432x288 with 1 Axes>"
      ]
     },
     "metadata": {
      "needs_background": "light"
     },
     "output_type": "display_data"
    }
   ],
   "source": [
    "X = data[[\"x1\",\"x2\",\"x3\",\"x6\"]]\n",
    "Y = data[[\"y\"]]\n",
    "X.boxplot()"
   ]
  },
  {
   "cell_type": "code",
   "execution_count": 23,
   "metadata": {},
   "outputs": [],
   "source": [
    "list = []\n",
    "for i in range(500):\n",
    "    X_train, X_test, y_train, y_test = train_test_split(X, Y, test_size=0.2, random_state=i)\n",
    "    lm = LinearRegression()\n",
    "    lm.fit(X_train,y_train)\n",
    "    y_pred = lm.predict(X_test)\n",
    "    m = lm.coef_\n",
    "    c = lm.intercept_\n",
    "    MSE = np.square(np.subtract(y_test,y_pred)).mean()\n",
    "    RMSE = math.sqrt(MSE)\n",
    "    list.append(RMSE)"
   ]
  },
  {
   "cell_type": "code",
   "execution_count": 24,
   "metadata": {},
   "outputs": [
    {
     "name": "stdout",
     "output_type": "stream",
     "text": [
      "AVERAGE 500 RMSE = 4.3961273803468695\n"
     ]
    }
   ],
   "source": [
    "average = sum(list) / len(list)\n",
    "print(\"AVERAGE 500 RMSE =\" ,average)"
   ]
  }
 ],
 "metadata": {
  "kernelspec": {
   "display_name": "Python 3.9.6 64-bit",
   "language": "python",
   "name": "python3"
  },
  "language_info": {
   "codemirror_mode": {
    "name": "ipython",
    "version": 3
   },
   "file_extension": ".py",
   "mimetype": "text/x-python",
   "name": "python",
   "nbconvert_exporter": "python",
   "pygments_lexer": "ipython3",
   "version": "3.9.6"
  },
  "orig_nbformat": 4,
  "vscode": {
   "interpreter": {
    "hash": "5da211566187181ba594136c7b9a72391342c5ece9146ba4e0faa8745aa2a67c"
   }
  }
 },
 "nbformat": 4,
 "nbformat_minor": 2
}
